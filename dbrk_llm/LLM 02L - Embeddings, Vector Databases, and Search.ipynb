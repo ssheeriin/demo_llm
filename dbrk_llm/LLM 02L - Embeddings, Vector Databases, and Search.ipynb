{
 "cells": [
  {
   "cell_type": "markdown",
   "metadata": {
    "application/vnd.databricks.v1+cell": {
     "cellMetadata": {},
     "inputWidgets": {},
     "nuid": "e2b68086-3579-4e72-bd78-6b5c9dcf9912",
     "showTitle": false,
     "title": ""
    }
   },
   "source": [
    "-sandbox\n",
    "\n",
    "<div style=\"text-align: center; line-height: 0; padding-top: 9px;\">\n",
    "  <img src=\"https://databricks.com/wp-content/uploads/2018/03/db-academy-rgb-1200px.png\" alt=\"Databricks Learning\" style=\"width: 600px\">\n",
    "</div>"
   ]
  },
  {
   "cell_type": "markdown",
   "metadata": {
    "application/vnd.databricks.v1+cell": {
     "cellMetadata": {},
     "inputWidgets": {},
     "nuid": "6adb2fb9-1a2d-416b-b82d-f0724b750fbf",
     "showTitle": false,
     "title": ""
    }
   },
   "source": [
    "# 02L - Embeddings, Vector Databases, and Search\n",
    "\n",
    "\n",
    "In this lab, we will apply the text vectorization, search, and question answering workflow that you learned in the demo. The dataset we will use this time will be on talk titles and sessions from [Data + AI Summit 2023](https://www.databricks.com/dataaisummit/). \n",
    "\n",
    "### ![Dolly](https://files.training.databricks.com/images/llm/dolly_small.png) Learning Objectives\n",
    "1. Learn how to use Chroma to store your embedding vectors and conduct similarity search\n",
    "1. Use OpenAI GPT-3.5 to generate response to your prompt"
   ]
  },
  {
   "cell_type": "code",
   "execution_count": null,
   "metadata": {
    "application/vnd.databricks.v1+cell": {
     "cellMetadata": {},
     "inputWidgets": {},
     "nuid": "38853b12-b7c8-4fa0-b444-2819444e4f7a",
     "showTitle": false,
     "title": ""
    }
   },
   "outputs": [],
   "source": [
    "%pip install chromadb==0.3.21 tiktoken==0.3.3"
   ]
  },
  {
   "cell_type": "markdown",
   "metadata": {
    "application/vnd.databricks.v1+cell": {
     "cellMetadata": {},
     "inputWidgets": {},
     "nuid": "4bd4c179-c16e-4651-a38d-915717f9b026",
     "showTitle": false,
     "title": ""
    }
   },
   "source": [
    "## Read data"
   ]
  },
  {
   "cell_type": "code",
   "execution_count": null,
   "metadata": {
    "application/vnd.databricks.v1+cell": {
     "cellMetadata": {},
     "inputWidgets": {},
     "nuid": "34e436c8-185e-4bc6-8421-41f6ed0c6adb",
     "showTitle": false,
     "title": ""
    }
   },
   "outputs": [],
   "source": [
    "import pandas as pd\n",
    "\n",
    "dais_pdf = pd.read_parquet(f\"{DA.paths.datasets}/dais/dais23_talks.parquet\")\n",
    "display(dais_pdf)"
   ]
  },
  {
   "cell_type": "code",
   "execution_count": null,
   "metadata": {
    "application/vnd.databricks.v1+cell": {
     "cellMetadata": {},
     "inputWidgets": {},
     "nuid": "a55e1e7b-098e-48fb-88e9-b6f0d3d290fa",
     "showTitle": false,
     "title": ""
    }
   },
   "outputs": [],
   "source": [
    "dais_pdf[\"full_text\"] = dais_pdf.apply(\n",
    "    lambda row: f\"\"\"Title: {row[\"Title\"]}\n",
    "                Abstract:  {row[\"Abstract\"]}\"\"\".strip(),\n",
    "    axis=1,\n",
    ")\n",
    "print(dais_pdf.iloc[0][\"full_text\"])"
   ]
  },
  {
   "cell_type": "code",
   "execution_count": null,
   "metadata": {
    "application/vnd.databricks.v1+cell": {
     "cellMetadata": {},
     "inputWidgets": {},
     "nuid": "da23ee84-b250-4841-9b73-0154aac9ba40",
     "showTitle": false,
     "title": ""
    }
   },
   "outputs": [],
   "source": [
    "texts = dais_pdf[\"full_text\"].to_list()"
   ]
  },
  {
   "cell_type": "markdown",
   "metadata": {
    "application/vnd.databricks.v1+cell": {
     "cellMetadata": {},
     "inputWidgets": {},
     "nuid": "b89b760f-a3b7-4df2-8fb1-da65d474278a",
     "showTitle": false,
     "title": ""
    }
   },
   "source": [
    "## Question 1\n",
    "Set up Chroma and create collection"
   ]
  },
  {
   "cell_type": "code",
   "execution_count": null,
   "metadata": {
    "application/vnd.databricks.v1+cell": {
     "cellMetadata": {},
     "inputWidgets": {},
     "nuid": "823a349d-6074-4014-be87-f5cc73063dbc",
     "showTitle": false,
     "title": ""
    }
   },
   "outputs": [],
   "source": [
    "import chromadb\n",
    "from chromadb.config import Settings\n",
    "\n",
    "chroma_client = chromadb.Client(\n",
    "    Settings(\n",
    "        chroma_db_impl=\"duckdb+parquet\",\n",
    "        persist_directory=DA.paths.user_db,  # this is an optional argument. If you don't supply this, the data will be ephemeral\n",
    "    )\n",
    ")"
   ]
  },
  {
   "cell_type": "markdown",
   "metadata": {
    "application/vnd.databricks.v1+cell": {
     "cellMetadata": {},
     "inputWidgets": {},
     "nuid": "46ac3cb5-0f5d-41be-8605-ec0468d3c687",
     "showTitle": false,
     "title": ""
    }
   },
   "source": [
    "Assign the value of `my_talks` to the `collection_name` variable."
   ]
  },
  {
   "cell_type": "code",
   "execution_count": null,
   "metadata": {
    "application/vnd.databricks.v1+cell": {
     "cellMetadata": {},
     "inputWidgets": {},
     "nuid": "817d49fb-5bbd-4ecb-a027-372626308a47",
     "showTitle": false,
     "title": ""
    }
   },
   "outputs": [],
   "source": [
    "# TODO\n",
    "collection_name = \"<FILL_IN>\"\n",
    "\n",
    "# If you have created the collection before, you need to delete the collection first\n",
    "if len(chroma_client.list_collections()) > 0 and collection_name in [chroma_client.list_collections()[0].name]:\n",
    "    chroma_client.delete_collection(name=collection_name)\n",
    "else:\n",
    "    print(f\"Creating collection: '{collection_name}'\")\n",
    "    talks_collection = chroma_client.create_collection(name=collection_name)"
   ]
  },
  {
   "cell_type": "code",
   "execution_count": null,
   "metadata": {
    "application/vnd.databricks.v1+cell": {
     "cellMetadata": {},
     "inputWidgets": {},
     "nuid": "4f22b731-858a-4219-a322-0d220abe9f2c",
     "showTitle": false,
     "title": ""
    }
   },
   "outputs": [],
   "source": [
    "# Test your answer. DO NOT MODIFY THIS CELL.\n",
    "\n",
    "dbTestQuestion2_1(collection_name)"
   ]
  },
  {
   "cell_type": "markdown",
   "metadata": {
    "application/vnd.databricks.v1+cell": {
     "cellMetadata": {},
     "inputWidgets": {},
     "nuid": "e8c27505-b0f0-4c7a-a93c-fdeaabd353ba",
     "showTitle": false,
     "title": ""
    }
   },
   "source": [
    "## Question 2\n",
    "\n",
    "[Add](https://docs.trychroma.com/reference/Collection#add) data to the collection."
   ]
  },
  {
   "cell_type": "code",
   "execution_count": null,
   "metadata": {
    "application/vnd.databricks.v1+cell": {
     "cellMetadata": {},
     "inputWidgets": {},
     "nuid": "30d5955c-5fea-45c4-b399-e45f6584faa6",
     "showTitle": false,
     "title": ""
    }
   },
   "outputs": [],
   "source": [
    "# TODO\n",
    "talks_collection.add(\n",
    "    documents=<FILL_IN>,\n",
    "    ids=<FILL_IN>\n",
    ")"
   ]
  },
  {
   "cell_type": "code",
   "execution_count": null,
   "metadata": {
    "application/vnd.databricks.v1+cell": {
     "cellMetadata": {},
     "inputWidgets": {},
     "nuid": "d8fd32ab-1e70-4266-b0bd-fa568855d0df",
     "showTitle": false,
     "title": ""
    }
   },
   "outputs": [],
   "source": [
    "# Test your answer. DO NOT MODIFY THIS CELL.\n",
    "\n",
    "dbTestQuestion2_2(talks_collection)"
   ]
  },
  {
   "cell_type": "markdown",
   "metadata": {
    "application/vnd.databricks.v1+cell": {
     "cellMetadata": {},
     "inputWidgets": {},
     "nuid": "2379ee26-e7ec-4721-af3d-11dd68b1880a",
     "showTitle": false,
     "title": ""
    }
   },
   "source": [
    "## Question 3\n",
    "\n",
    "[Query](https://docs.trychroma.com/reference/Collection#query) for relevant documents. If you are looking for talks related to language models, your query texts could be `language models`."
   ]
  },
  {
   "cell_type": "code",
   "execution_count": null,
   "metadata": {
    "application/vnd.databricks.v1+cell": {
     "cellMetadata": {},
     "inputWidgets": {},
     "nuid": "f300dc7d-a86a-4c9e-b7dd-99b8fcb315ce",
     "showTitle": false,
     "title": ""
    }
   },
   "outputs": [],
   "source": [
    "# TODO\n",
    "import json\n",
    "\n",
    "results = talks_collection.query(\n",
    "    query_texts=<FILL_IN>,\n",
    "    n_results=<FILL_IN>\n",
    ")\n",
    "\n",
    "print(json.dumps(results, indent=4))"
   ]
  },
  {
   "cell_type": "code",
   "execution_count": null,
   "metadata": {
    "application/vnd.databricks.v1+cell": {
     "cellMetadata": {},
     "inputWidgets": {},
     "nuid": "92e610bd-b08c-4e9b-9264-48aebc5480df",
     "showTitle": false,
     "title": ""
    }
   },
   "outputs": [],
   "source": [
    "# Test your answer. DO NOT MODIFY THIS CELL.\n",
    "\n",
    "dbTestQuestion2_3(results)"
   ]
  },
  {
   "cell_type": "markdown",
   "metadata": {
    "application/vnd.databricks.v1+cell": {
     "cellMetadata": {},
     "inputWidgets": {},
     "nuid": "3faf1704-82b3-48ed-b7b8-03e3f8b0085b",
     "showTitle": false,
     "title": ""
    }
   },
   "source": [
    "## Question 4\n",
    "\n",
    "Load a language model and create a [pipeline](https://huggingface.co/docs/transformers/main/en/main_classes/pipelines)."
   ]
  },
  {
   "cell_type": "code",
   "execution_count": null,
   "metadata": {
    "application/vnd.databricks.v1+cell": {
     "cellMetadata": {},
     "inputWidgets": {},
     "nuid": "d4cf673d-f8ce-4b0f-b9d6-e71ed40dd72b",
     "showTitle": false,
     "title": ""
    }
   },
   "outputs": [],
   "source": [
    "# TODO\n",
    "from transformers import AutoTokenizer, AutoModelForCausalLM, pipeline\n",
    "\n",
    "# Pick a model from HuggingFace that can generate text\n",
    "model_id = \"<FILL_IN>\"\n",
    "tokenizer = AutoTokenizer.from_pretrained(model_id)\n",
    "lm_model = AutoModelForCausalLM.from_pretrained(model_id)\n",
    "\n",
    "pipe = pipeline(\n",
    "    \"<FILL_IN>\", model=lm_model, tokenizer=tokenizer, max_new_tokens=512, device_map=\"auto\", handle_long_generation=\"hole\"\n",
    ")"
   ]
  },
  {
   "cell_type": "code",
   "execution_count": null,
   "metadata": {
    "application/vnd.databricks.v1+cell": {
     "cellMetadata": {},
     "inputWidgets": {},
     "nuid": "8442499c-d8cc-4064-afdd-0c85dcbe89a3",
     "showTitle": false,
     "title": ""
    }
   },
   "outputs": [],
   "source": [
    "# Test your answer. DO NOT MODIFY THIS CELL.\n",
    "\n",
    "dbTestQuestion2_4(pipe)"
   ]
  },
  {
   "cell_type": "markdown",
   "metadata": {
    "application/vnd.databricks.v1+cell": {
     "cellMetadata": {},
     "inputWidgets": {},
     "nuid": "2ac96deb-e8fe-49a9-a003-5b03692e3ac8",
     "showTitle": false,
     "title": ""
    }
   },
   "source": [
    "## Question 5\n",
    "\n",
    "Prompt engineering for question answering"
   ]
  },
  {
   "cell_type": "code",
   "execution_count": null,
   "metadata": {
    "application/vnd.databricks.v1+cell": {
     "cellMetadata": {},
     "inputWidgets": {},
     "nuid": "c7732856-891c-4cbd-bda3-d2ac6b430953",
     "showTitle": false,
     "title": ""
    }
   },
   "outputs": [],
   "source": [
    "# TODO\n",
    "# Come up with a question that you need the LLM assistant to help you with\n",
    "# A sample question is \"Help me find sessions related to XYZ\" \n",
    "# Note: Your \"XYZ\" should be related to the query you passed in Question 3. \n",
    "question = \"<FILL_IN>\"\n",
    "\n",
    "# Provide all returned similar documents from the cell above below\n",
    "context = <FILL_IN>\n",
    "\n",
    "# Feel free to be creative how you construct the prompt. You can use the demo notebook as a jumpstart reference.\n",
    "# You can also provide more requirements in the text how you want the answers to look like.\n",
    "# Example requirement: \"Recommend top-5 relevant sessions for me to attend.\"\n",
    "prompt_template = <FILL_IN>"
   ]
  },
  {
   "cell_type": "code",
   "execution_count": null,
   "metadata": {
    "application/vnd.databricks.v1+cell": {
     "cellMetadata": {},
     "inputWidgets": {},
     "nuid": "1f0aa885-5745-4a84-9a2f-0d4f147af2ec",
     "showTitle": false,
     "title": ""
    }
   },
   "outputs": [],
   "source": [
    "# Test your answer. DO NOT MODIFY THIS CELL.\n",
    "\n",
    "dbTestQuestion2_5(question, context, prompt_template)"
   ]
  },
  {
   "cell_type": "markdown",
   "metadata": {
    "application/vnd.databricks.v1+cell": {
     "cellMetadata": {},
     "inputWidgets": {},
     "nuid": "f03a2f2a-78b3-4e20-ad92-20eb93a39dfa",
     "showTitle": false,
     "title": ""
    }
   },
   "source": [
    "## Question 6 \n",
    "\n",
    "Submit query for language model to generate response.\n",
    "\n",
    "Hint: If you run into the error `index out of range in self`, make sure to check out this [documentation page](https://huggingface.co/docs/transformers/main_classes/pipelines#transformers.TextGenerationPipeline.__call__.handle_long_generation)."
   ]
  },
  {
   "cell_type": "code",
   "execution_count": null,
   "metadata": {
    "application/vnd.databricks.v1+cell": {
     "cellMetadata": {},
     "inputWidgets": {},
     "nuid": "8babbc1e-4889-40bc-8f01-16b619dcee95",
     "showTitle": false,
     "title": ""
    }
   },
   "outputs": [],
   "source": [
    "# TODO\n",
    "lm_response = pipe(<FILL_IN>)\n",
    "print(lm_response[0][\"generated_text\"])"
   ]
  },
  {
   "cell_type": "code",
   "execution_count": null,
   "metadata": {
    "application/vnd.databricks.v1+cell": {
     "cellMetadata": {},
     "inputWidgets": {},
     "nuid": "55ca127b-c244-438a-95dc-b657f7ac2246",
     "showTitle": false,
     "title": ""
    }
   },
   "outputs": [],
   "source": [
    "# Test your answer. DO NOT MODIFY THIS CELL.\n",
    "\n",
    "dbTestQuestion2_6(lm_response)"
   ]
  },
  {
   "cell_type": "markdown",
   "metadata": {
    "application/vnd.databricks.v1+cell": {
     "cellMetadata": {},
     "inputWidgets": {},
     "nuid": "c988c30a-cd7d-4f49-914b-e6c263fa3424",
     "showTitle": false,
     "title": ""
    }
   },
   "source": [
    "Notice that the output isn't exactly helpful. Head on to using OpenAI to try out GPT-3.5 instead!"
   ]
  },
  {
   "cell_type": "markdown",
   "metadata": {
    "application/vnd.databricks.v1+cell": {
     "cellMetadata": {},
     "inputWidgets": {},
     "nuid": "e658dee0-7f07-49f4-9839-6601d39c46b7",
     "showTitle": false,
     "title": ""
    }
   },
   "source": [
    "## OPTIONAL (Non-Graded): Use OpenAI models for Q/A\n",
    "\n",
    "For this section to work, you need to generate an Open AI key. \n",
    "\n",
    "Steps:\n",
    "1. You need to [create an account](https://platform.openai.com/signup) on OpenAI. \n",
    "2. Generate an OpenAI [API key here](https://platform.openai.com/account/api-keys). \n",
    "\n",
    "Note: OpenAI does not have a free option, but it gives you $5 as credit. Once you have exhausted your $5 credit, you will need to add your payment method. You will be [charged per token usage](https://openai.com/pricing). **IMPORTANT**: It's crucial that you keep your OpenAI API key to yourself. If others have access to your OpenAI key, they will be able to charge their usage to your account!"
   ]
  },
  {
   "cell_type": "code",
   "execution_count": null,
   "metadata": {
    "application/vnd.databricks.v1+cell": {
     "cellMetadata": {},
     "inputWidgets": {},
     "nuid": "5dc882a3-327d-4670-bf18-48c906a842d1",
     "showTitle": false,
     "title": ""
    }
   },
   "outputs": [],
   "source": [
    "# TODO\n",
    "import os\n",
    "\n",
    "os.environ[\"OPENAI_API_KEY\"] = \"<FILL IN>\""
   ]
  },
  {
   "cell_type": "code",
   "execution_count": null,
   "metadata": {
    "application/vnd.databricks.v1+cell": {
     "cellMetadata": {},
     "inputWidgets": {},
     "nuid": "aedcc638-047d-4363-bc3d-420a6b6b4942",
     "showTitle": false,
     "title": ""
    }
   },
   "outputs": [],
   "source": [
    "import openai\n",
    "\n",
    "openai.api_key = os.environ[\"OPENAI_API_KEY\"]"
   ]
  },
  {
   "cell_type": "markdown",
   "metadata": {
    "application/vnd.databricks.v1+cell": {
     "cellMetadata": {},
     "inputWidgets": {},
     "nuid": "9e30d81a-0dfc-43fe-8164-bfe187b7e062",
     "showTitle": false,
     "title": ""
    }
   },
   "source": [
    "If you would like to estimate how much it would cost to use OpenAI, you can use `tiktoken` library from OpenAI to get the number of tokens from your prompt.\n",
    "\n",
    "\n",
    "We will be using `gpt-3.5-turbo` since it's the most economical option at ($0.002/1k tokens), as of May 2023. GPT-4 charges $0.04/1k tokens. The following code block below is referenced from OpenAI's documentation on [\"Managing tokens\"](https://platform.openai.com/docs/guides/chat/managing-tokens)."
   ]
  },
  {
   "cell_type": "code",
   "execution_count": null,
   "metadata": {
    "application/vnd.databricks.v1+cell": {
     "cellMetadata": {},
     "inputWidgets": {},
     "nuid": "e8270be7-3ae2-4046-8352-55ed1a89dfc3",
     "showTitle": false,
     "title": ""
    }
   },
   "outputs": [],
   "source": [
    "import tiktoken\n",
    "\n",
    "price_token = 0.002\n",
    "encoder = tiktoken.encoding_for_model(\"gpt-3.5-turbo\")\n",
    "cost_to_run = len(encoder.encode(prompt_template)) / 1000 * price_token\n",
    "print(f\"It would take roughly ${round(cost_to_run, 5)} to run this prompt\")"
   ]
  },
  {
   "cell_type": "markdown",
   "metadata": {
    "application/vnd.databricks.v1+cell": {
     "cellMetadata": {},
     "inputWidgets": {},
     "nuid": "172e4b1a-fc0a-481d-b6cc-f6d3b690c137",
     "showTitle": false,
     "title": ""
    }
   },
   "source": [
    "We won't have to create a new vector database again. We can just send our `context` from above to OpenAI. We will use their chat completion API to interact with `GPT-3.5-turbo`. You can refer to their [documentation here](https://platform.openai.com/docs/guides/chat).\n",
    "\n",
    "Something interesting is that OpenAI models use the system message to help their assistant to be more accurate. From OpenAI's [docs](https://platform.openai.com/docs/guides/chat/introduction):\n",
    "\n",
    "> Future models will be trained to pay stronger attention to system messages. The system message helps set the behavior of the assistant."
   ]
  },
  {
   "cell_type": "code",
   "execution_count": null,
   "metadata": {
    "application/vnd.databricks.v1+cell": {
     "cellMetadata": {},
     "inputWidgets": {},
     "nuid": "7913e7cf-120c-4755-80bb-1c5a02ed7acd",
     "showTitle": false,
     "title": ""
    }
   },
   "outputs": [],
   "source": [
    "# TODO\n",
    "gpt35_response = openai.ChatCompletion.create(\n",
    "    model=\"gpt-3.5-turbo\",\n",
    "    messages=[\n",
    "        {\"role\": \"system\", \"content\": \"You are a helpful assistant.\"},\n",
    "        {\"role\": \"user\", \"content\": <FILL_IN>},\n",
    "    ],\n",
    "    temperature=0, # 0 makes outputs deterministic; The closer the value is to 1, the more random the outputs are for each time you re-run.\n",
    ")"
   ]
  },
  {
   "cell_type": "code",
   "execution_count": null,
   "metadata": {
    "application/vnd.databricks.v1+cell": {
     "cellMetadata": {},
     "inputWidgets": {},
     "nuid": "0546274a-a665-4f83-babc-1d443209f560",
     "showTitle": false,
     "title": ""
    }
   },
   "outputs": [],
   "source": [
    "print(gpt35_response.choices[0][\"message\"][\"content\"])"
   ]
  },
  {
   "cell_type": "code",
   "execution_count": null,
   "metadata": {
    "application/vnd.databricks.v1+cell": {
     "cellMetadata": {},
     "inputWidgets": {},
     "nuid": "638f0f7a-3b52-4943-bbef-589d0d948d02",
     "showTitle": false,
     "title": ""
    }
   },
   "outputs": [],
   "source": [
    "from IPython.display import Markdown\n",
    "\n",
    "Markdown(gpt35_response.choices[0][\"message\"][\"content\"])"
   ]
  },
  {
   "cell_type": "markdown",
   "metadata": {
    "application/vnd.databricks.v1+cell": {
     "cellMetadata": {},
     "inputWidgets": {},
     "nuid": "2865f407-8ad9-4f03-bb48-d74014c81660",
     "showTitle": false,
     "title": ""
    }
   },
   "source": [
    "We can also check how many tokens OpenAI has used"
   ]
  },
  {
   "cell_type": "code",
   "execution_count": null,
   "metadata": {
    "application/vnd.databricks.v1+cell": {
     "cellMetadata": {},
     "inputWidgets": {},
     "nuid": "d1df5c15-b04f-4a65-9ff6-09fabbe842fe",
     "showTitle": false,
     "title": ""
    }
   },
   "outputs": [],
   "source": [
    "gpt35_response[\"usage\"][\"total_tokens\"]"
   ]
  },
  {
   "cell_type": "markdown",
   "metadata": {
    "application/vnd.databricks.v1+cell": {
     "cellMetadata": {},
     "inputWidgets": {},
     "nuid": "b65e0d2e-da22-42af-90ed-6dedcd8f2e92",
     "showTitle": false,
     "title": ""
    }
   },
   "source": [
    "The results are noticeably much better compared to when using Hugging Face's GPT-2! It didn't get stuck in the text generation, but the sessions recommended are not all relevant to pandas either. You can further do more prompt engineering to get better results."
   ]
  },
  {
   "cell_type": "markdown",
   "metadata": {
    "application/vnd.databricks.v1+cell": {
     "cellMetadata": {},
     "inputWidgets": {},
     "nuid": "8d2a07c2-18cc-4a6e-bff7-fd283f480ecb",
     "showTitle": false,
     "title": ""
    }
   },
   "source": [
    "## Submit your Results (edX Verified Only)\n",
    "\n",
    "To get credit for this lab, click the submit button in the top right to report the results. If you run into any issues, click `Run` -> `Clear state and run all`, and make sure all tests have passed before re-submitting. If you accidentally deleted any tests, take a look at the notebook's version history to recover them or reload the notebooks."
   ]
  },
  {
   "cell_type": "markdown",
   "metadata": {
    "application/vnd.databricks.v1+cell": {
     "cellMetadata": {},
     "inputWidgets": {},
     "nuid": "678b4695-4243-481f-98a8-1682fe58cb30",
     "showTitle": false,
     "title": ""
    }
   },
   "source": [
    "-sandbox\n",
    "&copy; 2023 Databricks, Inc. All rights reserved.<br/>\n",
    "Apache, Apache Spark, Spark and the Spark logo are trademarks of the <a href=\"https://www.apache.org/\">Apache Software Foundation</a>.<br/>\n",
    "<br/>\n",
    "<a href=\"https://databricks.com/privacy-policy\">Privacy Policy</a> | <a href=\"https://databricks.com/terms-of-use\">Terms of Use</a> | <a href=\"https://help.databricks.com/\">Support</a>"
   ]
  }
 ],
 "metadata": {
  "application/vnd.databricks.v1+notebook": {
   "dashboards": [],
   "language": "python",
   "notebookMetadata": {
    "pythonIndentUnit": 4
   },
   "notebookName": "LLM 02L - Embeddings, Vector Databases, and Search",
   "widgets": {}
  },
  "language_info": {
   "name": "python"
  }
 },
 "nbformat": 4,
 "nbformat_minor": 0
}
