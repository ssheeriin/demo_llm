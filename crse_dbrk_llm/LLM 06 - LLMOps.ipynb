{
 "cells": [
  {
   "cell_type": "markdown",
   "metadata": {
    "application/vnd.databricks.v1+cell": {
     "cellMetadata": {},
     "inputWidgets": {},
     "nuid": "c5767bc9-e0d7-4221-9832-943b4e6a7a02",
     "showTitle": false,
     "title": ""
    }
   },
   "source": [
    "-sandbox\n",
    "\n",
    "<div style=\"text-align: center; line-height: 0; padding-top: 9px;\">\n",
    "  <img src=\"https://databricks.com/wp-content/uploads/2018/03/db-academy-rgb-1200px.png\" alt=\"Databricks Learning\" style=\"width: 600px\">\n",
    "</div>"
   ]
  },
  {
   "cell_type": "markdown",
   "metadata": {
    "application/vnd.databricks.v1+cell": {
     "cellMetadata": {},
     "inputWidgets": {},
     "nuid": "7e7d889d-8e2e-4490-add8-40ab56b6b254",
     "showTitle": false,
     "title": ""
    }
   },
   "source": [
    "# LLMOps\n",
    "In this example, we will walk through some key steps for taking an LLM-based pipeline to production.  Our pipeline will be familiar to you from previous modules: summarization of news articles using a pre-trained model from Hugging Face.  But in this walkthrough, we will be more rigorous about LLMOps.\n",
    "\n",
    "**Develop an LLM pipeline**\n",
    "\n",
    "Our LLMOps goals during development are (a) to track what we do carefully for later auditing and reproducibility and (b) to package models or pipelines in a format which will make future deployment easier.  Step-by-step, we will:\n",
    "* Load data.\n",
    "* Build an LLM pipeline.\n",
    "* Test applying the pipeline to data, and log queries and results to MLflow Tracking.\n",
    "* Log the pipeline to the MLflow Tracking server as an MLflow Model.\n",
    "\n",
    "**Test the LLM pipeline**\n",
    "\n",
    "Our LLMOps goals during testing (in the staging or QA stage) are (a) to track the LLM's progress through testing and towards production and (b) to do so programmatically to demonstrate the APIs needed for future CI/CD automation.  Step-by-step, we will:\n",
    "* Register the pipeline to the MLflow Model Registry.\n",
    "* Test the pipeline on sample data.\n",
    "* Promote the registered model (pipeline) to production.\n",
    "\n",
    "**Create a production workflow for batch inference**\n",
    "\n",
    "Our LLMOps goals during production are (a) to write scale-out code which can meet scaling demands in the future and (b) to simplify deployment by using MLflow to write model-agnostic deployment code.  Step-by-step, we will:\n",
    "* Load the latest production LLM pipeline from the Model Registry.\n",
    "* Apply the pipeline to an Apache Spark DataFrame.\n",
    "* Append the results to a Delta Lake table.\n",
    "\n",
    "### Notes about this workflow\n",
    "\n",
    "**This notebook vs. modular scripts**: Since this demo is in a single notebook, we will divide the workflow from development to production via notebook sections.  In a more realistic LLM Ops setup, you would likely have the sections split into separate notebooks or scripts.\n",
    "\n",
    "**Promoting models vs. code**: We track the path from development to production via the MLflow Model Registry.  That is, we are *promoting models* towards production, rather than promoting code.  For more discussion of these two paradigms, see [\"The Big Book of MLOps\"](https://www.databricks.com/resources/ebook/the-big-book-of-mlops).\n",
    "\n",
    "### ![Dolly](https://files.training.databricks.com/images/llm/dolly_small.png) Learning Objectives\n",
    "1. Walk through a simple but realistic workflow to take an LLM pipeline from development to production.\n",
    "1. Make use of MLflow Tracking and the Model Registry to package and manage the pipeline.\n",
    "1. Scale out batch inference using Apache Spark and Delta Lake."
   ]
  },
  {
   "cell_type": "markdown",
   "metadata": {
    "application/vnd.databricks.v1+cell": {
     "cellMetadata": {},
     "inputWidgets": {},
     "nuid": "1c4800ad-9362-4198-8627-f8973e6a0d36",
     "showTitle": false,
     "title": ""
    }
   },
   "source": [
    "## Classroom Setup"
   ]
  },
  {
   "cell_type": "code",
   "execution_count": 0,
   "metadata": {
    "application/vnd.databricks.v1+cell": {
     "cellMetadata": {},
     "inputWidgets": {},
     "nuid": "2410b802-1af4-45e1-990a-4372d0e63dc6",
     "showTitle": false,
     "title": ""
    }
   },
   "outputs": [],
   "source": [
    "%run ../Includes/Classroom-Setup"
   ]
  },
  {
   "cell_type": "markdown",
   "metadata": {
    "application/vnd.databricks.v1+cell": {
     "cellMetadata": {},
     "inputWidgets": {},
     "nuid": "d11514c6-236f-4213-9d44-ad7c4c5e8974",
     "showTitle": false,
     "title": ""
    }
   },
   "source": [
    "For this notebook we'll use the <a href=\"https://huggingface.co/datasets/xsum\" target=\"_blank\">Extreme Summarization (XSum) Dataset</a>  with the <a href=\"https://huggingface.co/t5-small\" target=\"_blank\">T5 Text-To-Text Transfer Transformer</a> from Hugging Face."
   ]
  },
  {
   "cell_type": "markdown",
   "metadata": {
    "application/vnd.databricks.v1+cell": {
     "cellMetadata": {},
     "inputWidgets": {},
     "nuid": "148d9302-49f5-47a7-8f01-25ad1f8dc924",
     "showTitle": false,
     "title": ""
    }
   },
   "source": [
    "## Prepare data"
   ]
  },
  {
   "cell_type": "code",
   "execution_count": 0,
   "metadata": {
    "application/vnd.databricks.v1+cell": {
     "cellMetadata": {},
     "inputWidgets": {},
     "nuid": "e8f014d3-bd95-4737-b3cb-933c9b2b4d94",
     "showTitle": false,
     "title": ""
    }
   },
   "outputs": [],
   "source": [
    "from datasets import load_dataset\n",
    "from transformers import pipeline"
   ]
  },
  {
   "cell_type": "code",
   "execution_count": 0,
   "metadata": {
    "application/vnd.databricks.v1+cell": {
     "cellMetadata": {},
     "inputWidgets": {},
     "nuid": "ac2157ac-6a0f-4d93-ba06-8c1edff2aa51",
     "showTitle": false,
     "title": ""
    }
   },
   "outputs": [],
   "source": [
    "xsum_dataset = load_dataset(\n",
    "    \"xsum\", version=\"1.2.0\", cache_dir=DA.paths.datasets\n",
    ")  # Note: We specify cache_dir to use pre-cached data.\n",
    "xsum_sample = xsum_dataset[\"train\"].select(range(10))\n",
    "display(xsum_sample.to_pandas())"
   ]
  },
  {
   "cell_type": "markdown",
   "metadata": {
    "application/vnd.databricks.v1+cell": {
     "cellMetadata": {},
     "inputWidgets": {},
     "nuid": "b1340feb-4ea1-4641-a32a-8e1da62c1dbd",
     "showTitle": false,
     "title": ""
    }
   },
   "source": [
    "Later on, when we show Production inference, we will want a dataset saved for it.  See the production section below for more information about Delta, the format we use to save the data here."
   ]
  },
  {
   "cell_type": "code",
   "execution_count": 0,
   "metadata": {
    "application/vnd.databricks.v1+cell": {
     "cellMetadata": {},
     "inputWidgets": {},
     "nuid": "179e8a8c-b64f-47dc-a44d-d3c28c3ad28d",
     "showTitle": false,
     "title": ""
    }
   },
   "outputs": [],
   "source": [
    "prod_data_path = f\"{DA.paths.working_dir}/m6_prod_data\"\n",
    "test_spark_dataset = spark.createDataFrame(xsum_dataset[\"test\"].to_pandas())\n",
    "test_spark_dataset.write.format(\"delta\").mode(\"overwrite\").save(prod_data_path)"
   ]
  },
  {
   "cell_type": "markdown",
   "metadata": {
    "application/vnd.databricks.v1+cell": {
     "cellMetadata": {},
     "inputWidgets": {},
     "nuid": "0e12729b-ebe0-4669-9cfd-d66e7731feca",
     "showTitle": false,
     "title": ""
    }
   },
   "source": [
    "## Develop an LLM pipeline"
   ]
  },
  {
   "cell_type": "markdown",
   "metadata": {
    "application/vnd.databricks.v1+cell": {
     "cellMetadata": {},
     "inputWidgets": {},
     "nuid": "df9eb358-6454-4952-843b-4640b2b16caa",
     "showTitle": false,
     "title": ""
    }
   },
   "source": [
    "### Create a Hugging Face pipeline"
   ]
  },
  {
   "cell_type": "code",
   "execution_count": 0,
   "metadata": {
    "application/vnd.databricks.v1+cell": {
     "cellMetadata": {},
     "inputWidgets": {},
     "nuid": "19bcd135-c47e-426c-ba34-ec132acfa3c1",
     "showTitle": false,
     "title": ""
    }
   },
   "outputs": [],
   "source": [
    "from transformers import pipeline\n",
    "\n",
    "# Later, we plan to log all of these parameters to MLflow.\n",
    "# Storing them as variables here will help with that.\n",
    "hf_model_name = \"t5-small\"\n",
    "min_length = 20\n",
    "max_length = 40\n",
    "truncation = True\n",
    "do_sample = True\n",
    "\n",
    "summarizer = pipeline(\n",
    "    task=\"summarization\",\n",
    "    model=hf_model_name,\n",
    "    min_length=min_length,\n",
    "    max_length=max_length,\n",
    "    truncation=truncation,\n",
    "    do_sample=do_sample,\n",
    "    model_kwargs={\"cache_dir\": DA.paths.datasets},\n",
    ")  # Note: We specify cache_dir to use pre-cached models."
   ]
  },
  {
   "cell_type": "markdown",
   "metadata": {
    "application/vnd.databricks.v1+cell": {
     "cellMetadata": {},
     "inputWidgets": {},
     "nuid": "b50a7e9a-833e-44d3-9b16-3ecdb69f6117",
     "showTitle": false,
     "title": ""
    }
   },
   "source": [
    "We can now examine the `summarizer` pipeline summarizing a document from the `xsum` dataset."
   ]
  },
  {
   "cell_type": "code",
   "execution_count": 0,
   "metadata": {
    "application/vnd.databricks.v1+cell": {
     "cellMetadata": {},
     "inputWidgets": {},
     "nuid": "b7085d13-7d52-4d0c-a085-fb8f153549f4",
     "showTitle": false,
     "title": ""
    }
   },
   "outputs": [],
   "source": [
    "doc0 = xsum_sample[\"document\"][0]\n",
    "print(f\"Summary: {summarizer(doc0)[0]['summary_text']}\")\n",
    "print(\"===============================================\")\n",
    "print(f\"Original Document: {doc0}\")"
   ]
  },
  {
   "cell_type": "markdown",
   "metadata": {
    "application/vnd.databricks.v1+cell": {
     "cellMetadata": {},
     "inputWidgets": {},
     "nuid": "9b03c517-3f9a-45e9-aaca-19c8b04ef8e1",
     "showTitle": false,
     "title": ""
    }
   },
   "source": [
    "### Track LLM development with MLflow\n",
    "\n",
    "[MLflow](https://mlflow.org/) has a Tracking component that helps you to track exactly how models or pipelines are produced during development.  Although we are not fitting (tuning or training) a model here, we can still make use of tracking to:\n",
    "* Track example queries and responses to the LLM pipeline, for later review or analysis\n",
    "* Store the model as an [MLflow Model flavor](https://mlflow.org/docs/latest/models.html#built-in-model-flavors), thus packaging it for simpler deployment"
   ]
  },
  {
   "cell_type": "code",
   "execution_count": 0,
   "metadata": {
    "application/vnd.databricks.v1+cell": {
     "cellMetadata": {},
     "inputWidgets": {},
     "nuid": "ea0caf6c-9caf-437e-855d-c774880ef171",
     "showTitle": false,
     "title": ""
    }
   },
   "outputs": [],
   "source": [
    "# Apply to a batch of articles\n",
    "import pandas as pd\n",
    "\n",
    "results = summarizer(xsum_sample[\"document\"])\n",
    "display(pd.DataFrame(results, columns=[\"summary_text\"]))"
   ]
  },
  {
   "cell_type": "markdown",
   "metadata": {
    "application/vnd.databricks.v1+cell": {
     "cellMetadata": {},
     "inputWidgets": {},
     "nuid": "aaefc956-c93c-4d05-bd46-8b4a793d49e3",
     "showTitle": false,
     "title": ""
    }
   },
   "source": [
    "[MLflow Tracking](https://mlflow.org/docs/latest/tracking.html) is organized hierarchically as follows:\n",
    "* **An [experiment](https://mlflow.org/docs/latest/tracking.html#organizing-runs-in-experiments)** generally corresponds to the creation of 1 primary model or pipeline.  In our case, this is our LLM pipeline.  It contains some number of *runs*.\n",
    "   * **A [run](https://mlflow.org/docs/latest/tracking.html#organizing-runs-in-experiments)** generally corresponds to the creation of 1 sub-model, such as 1 trial during hyperparameter tuning in traditional ML.  In our case, executing this notebook once will only create 1 run, but a second execution of the notebook will create a second run.  This version tracking can be useful during iterative development.  Each run contains some number of logged parameters, metrics, tags, models, artifacts, and other metadata.\n",
    "      * **A [parameter](https://mlflow.org/docs/latest/tracking.html#concepts)** is an input to the model or pipeline, such as a regularization parameter in traditional ML or `max_length` for our LLM pipeline.\n",
    "      * **A [metric](https://mlflow.org/docs/latest/tracking.html#concepts)** is an output of evaluation, such as accuracy or loss.\n",
    "      * **An [artifact](https://mlflow.org/docs/latest/tracking.html#concepts)** is an arbitrary file stored alongside a run's metadata, such as the serialized model itself.\n",
    "      * **A [flavor](https://mlflow.org/docs/latest/models.html#storage-format)** is an MLflow format for serializing models.  This format uses the underlying ML library's format (such as PyTorch, TensorFlow, Hugging Face, or your custom format), plus metadata.\n",
    "\n",
    "MLflow has an API for tracking queries and predictions [`mlflow.llm.log_predictions()`](https://mlflow.org/docs/latest/python_api/mlflow.llm.html), which we will use below.  Note that, as of MLflow 2.3.1 (Apr 28, 2023), this API is Experimental, so it may change in later releases.  See the [LLM Tracking page](https://mlflow.org/docs/latest/llm-tracking.html) for more information.\n",
    "\n",
    "***Tip***: We wrap our model development workflow with a call to `with mlflow.start_run():`.  This context manager syntax starts and ends the MLflow run explicitly, which is a best practice for code which may be moved to production.  See the [API doc](https://mlflow.org/docs/latest/python_api/mlflow.html#mlflow.start_run) for more information."
   ]
  },
  {
   "cell_type": "code",
   "execution_count": 0,
   "metadata": {
    "application/vnd.databricks.v1+cell": {
     "cellMetadata": {},
     "inputWidgets": {},
     "nuid": "75cebbb2-8aec-40b5-ab82-cb23304d8c23",
     "showTitle": false,
     "title": ""
    }
   },
   "outputs": [],
   "source": [
    "import mlflow\n",
    "\n",
    "# Tell MLflow Tracking to user this explicit experiment path,\n",
    "# which is in your home directory under the Workspace browser (left-hand sidebar).\n",
    "mlflow.set_experiment(f\"/Users/{DA.username}/LLM 06 - MLflow experiment\")\n",
    "\n",
    "with mlflow.start_run():\n",
    "    # LOG PARAMS\n",
    "    mlflow.log_params(\n",
    "        {\n",
    "            \"hf_model_name\": hf_model_name,\n",
    "            \"min_length\": min_length,\n",
    "            \"max_length\": max_length,\n",
    "            \"truncation\": truncation,\n",
    "            \"do_sample\": do_sample,\n",
    "        }\n",
    "    )\n",
    "\n",
    "    # --------------------------------\n",
    "    # LOG INPUTS (QUERIES) AND OUTPUTS\n",
    "    # Logged `inputs` are expected to be a list of str, or a list of str->str dicts.\n",
    "    results_list = [r[\"summary_text\"] for r in results]\n",
    "\n",
    "    # Our LLM pipeline does not have prompts separate from inputs, so we do not log any prompts.\n",
    "    mlflow.llm.log_predictions(\n",
    "        inputs=xsum_sample[\"document\"],\n",
    "        outputs=results_list,\n",
    "        prompts=[\"\" for _ in results_list],\n",
    "    )\n",
    "\n",
    "    # ---------\n",
    "    # LOG MODEL\n",
    "    # We next log our LLM pipeline as an MLflow model.\n",
    "    # This packages the model with useful metadata, such as the library versions used to create it.\n",
    "    # This metadata makes it much easier to deploy the model downstream.\n",
    "    # Under the hood, the model format is simply the ML library's native format (Hugging Face for us), plus metadata.\n",
    "\n",
    "    # It is valuable to log a \"signature\" with the model telling MLflow the input and output schema for the model.\n",
    "    signature = mlflow.models.infer_signature(\n",
    "        xsum_sample[\"document\"][0],\n",
    "        mlflow.transformers.generate_signature_output(\n",
    "            summarizer, xsum_sample[\"document\"][0]\n",
    "        ),\n",
    "    )\n",
    "    print(f\"Signature:\\n{signature}\\n\")\n",
    "\n",
    "    # For mlflow.transformers, if there are inference-time configurations,\n",
    "    # those need to be saved specially in the log_model call (below).\n",
    "    # This ensures that the pipeline will use these same configurations when re-loaded.\n",
    "    inference_config = {\n",
    "        \"min_length\": min_length,\n",
    "        \"max_length\": max_length,\n",
    "        \"truncation\": truncation,\n",
    "        \"do_sample\": do_sample,\n",
    "    }\n",
    "\n",
    "    # Logging a model returns a handle `model_info` to the model metadata in the tracking server.\n",
    "    # This `model_info` will be useful later in the notebook to retrieve the logged model.\n",
    "    model_info = mlflow.transformers.log_model(\n",
    "        transformers_model=summarizer,\n",
    "        artifact_path=\"summarizer\",\n",
    "        task=\"summarization\",\n",
    "        inference_config=inference_config,\n",
    "        signature=signature,\n",
    "        input_example=\"This is an example of a long news article which this pipeline can summarize for you.\",\n",
    "    )"
   ]
  },
  {
   "cell_type": "markdown",
   "metadata": {
    "application/vnd.databricks.v1+cell": {
     "cellMetadata": {},
     "inputWidgets": {},
     "nuid": "86af7160-ef9e-42da-801f-894dc46b23bb",
     "showTitle": false,
     "title": ""
    }
   },
   "source": [
    "### Query the MLflow Tracking server\n",
    "\n",
    "**MLflow Tracking API**: We briefly show how to query the logged model and metadata in the MLflow Tracking server, by loading the logged model.  See the [MLflow API](https://mlflow.org/docs/latest/python_api/mlflow.html) for more information about programmatic access.\n",
    "\n",
    "**MLflow Tracking UI**: You can also use the UI.  In the right-hand sidebar, click the beaker icon to access the MLflow experiments run list, and then click through to access the Tracking server UI.  There, you can see the logged metadata and model.  Note in particular that our LLM inputs and outputs have been logged as a CSV file under model artifacts.\n",
    "\n",
    "GIF of MLflow UI:\n",
    "![GIF of MLflow UI](https://files.training.databricks.com/images/llm/llmops.gif)"
   ]
  },
  {
   "cell_type": "markdown",
   "metadata": {
    "application/vnd.databricks.v1+cell": {
     "cellMetadata": {},
     "inputWidgets": {},
     "nuid": "986e3ac3-172e-44db-b193-5519c25b065f",
     "showTitle": false,
     "title": ""
    }
   },
   "source": [
    "Now, we can load the pipeline back from MLflow as a [pyfunc](https://mlflow.org/docs/latest/python_api/mlflow.pyfunc.html) and use the `.predict()` method to summarize an example document."
   ]
  },
  {
   "cell_type": "code",
   "execution_count": 0,
   "metadata": {
    "application/vnd.databricks.v1+cell": {
     "cellMetadata": {},
     "inputWidgets": {},
     "nuid": "72c02d6e-5dba-4f76-990f-732b9d04b023",
     "showTitle": false,
     "title": ""
    }
   },
   "outputs": [],
   "source": [
    "loaded_summarizer = mlflow.pyfunc.load_model(model_uri=model_info.model_uri)\n",
    "loaded_summarizer.predict(xsum_sample[\"document\"][0])"
   ]
  },
  {
   "cell_type": "markdown",
   "metadata": {
    "application/vnd.databricks.v1+cell": {
     "cellMetadata": {},
     "inputWidgets": {},
     "nuid": "0db373d4-03da-4580-a024-c88b0d30e4ff",
     "showTitle": false,
     "title": ""
    }
   },
   "source": [
    "The `.predict()` method can handle more than one document at a time, below we pass in all the data from `xsum_sample`."
   ]
  },
  {
   "cell_type": "code",
   "execution_count": 0,
   "metadata": {
    "application/vnd.databricks.v1+cell": {
     "cellMetadata": {},
     "inputWidgets": {},
     "nuid": "616e3f4f-35f0-4182-b819-86425a4b39f8",
     "showTitle": false,
     "title": ""
    }
   },
   "outputs": [],
   "source": [
    "results = loaded_summarizer.predict(xsum_sample.to_pandas()[\"document\"])\n",
    "display(pd.DataFrame(results, columns=[\"generated_summary\"]))"
   ]
  },
  {
   "cell_type": "markdown",
   "metadata": {
    "application/vnd.databricks.v1+cell": {
     "cellMetadata": {},
     "inputWidgets": {},
     "nuid": "1cfd0068-2cfb-4dbc-b773-ecc732138e1b",
     "showTitle": false,
     "title": ""
    }
   },
   "source": [
    "We are now ready to move to the staging step of deployment.  To get started, we will register the model in the MLflow Model Registry (more info below)."
   ]
  },
  {
   "cell_type": "code",
   "execution_count": 0,
   "metadata": {
    "application/vnd.databricks.v1+cell": {
     "cellMetadata": {},
     "inputWidgets": {},
     "nuid": "a604aae7-5646-4251-a88f-3ef64a641d23",
     "showTitle": false,
     "title": ""
    }
   },
   "outputs": [],
   "source": [
    "# Define the name for the model in the Model Registry.\n",
    "# We filter out some special characters which cannot be used in model names.\n",
    "model_name = f\"summarizer - {DA.username}\"\n",
    "model_name = model_name.replace(\"/\", \"_\").replace(\".\", \"_\").replace(\":\", \"_\")\n",
    "print(model_name)"
   ]
  },
  {
   "cell_type": "code",
   "execution_count": 0,
   "metadata": {
    "application/vnd.databricks.v1+cell": {
     "cellMetadata": {},
     "inputWidgets": {},
     "nuid": "5fb5ca0b-cd3d-44a6-b022-3ecd236bffd7",
     "showTitle": false,
     "title": ""
    }
   },
   "outputs": [],
   "source": [
    "# Register a new model under the given name, or a new model version if the name exists already.\n",
    "mlflow.register_model(model_uri=model_info.model_uri, name=model_name)"
   ]
  },
  {
   "cell_type": "markdown",
   "metadata": {
    "application/vnd.databricks.v1+cell": {
     "cellMetadata": {},
     "inputWidgets": {},
     "nuid": "68e98731-a399-4b2c-8067-9cd22684a65d",
     "showTitle": false,
     "title": ""
    }
   },
   "source": [
    "## Test the LLM pipeline\n",
    "\n",
    "During the Staging step of development, our goal is to move code and/or models from Development to Production.  In order to do so, we must test the code and/or models to make sure they are ready for Production.\n",
    "\n",
    "We track our progress here using the [MLflow Model Registry](https://mlflow.org/docs/latest/model-registry.html).  This metadata and model store organizes models as follows:\n",
    "* **A registered model** is a named model in the registry, in our case corresponding to our summarization model.  It may have multiple *versions*.\n",
    "   * **A model version** is an instance of a given model.  As you update your model, you will create new versions.  Each version is designated as being in a particular *stage* of deployment.\n",
    "      * **A stage** is a stage of deployment: `None` (development), `Staging`, `Production`, or `Archived`.\n",
    "\n",
    "The model we registered above starts with 1 version in stage `None` (development).\n",
    "\n",
    "In the workflow below, we will programmatically transition the model from development to staging to production.  For more information on the Model Registry API, see the [Model Registry docs](https://mlflow.org/docs/latest/model-registry.html).  Alternatively, you can edit the registry and make model stage transitions via the UI.  To access the UI, click the Experiments menu option in the left-hand sidebar, and search for your model name."
   ]
  },
  {
   "cell_type": "code",
   "execution_count": 0,
   "metadata": {
    "application/vnd.databricks.v1+cell": {
     "cellMetadata": {},
     "inputWidgets": {},
     "nuid": "14d48ac3-3ed9-442c-9c7a-82d14c9b06e7",
     "showTitle": false,
     "title": ""
    }
   },
   "outputs": [],
   "source": [
    "from mlflow import MlflowClient\n",
    "\n",
    "client = MlflowClient()"
   ]
  },
  {
   "cell_type": "code",
   "execution_count": 0,
   "metadata": {
    "application/vnd.databricks.v1+cell": {
     "cellMetadata": {},
     "inputWidgets": {},
     "nuid": "64a25209-aed5-464b-8ce5-954b39064e29",
     "showTitle": false,
     "title": ""
    }
   },
   "outputs": [],
   "source": [
    "client.search_registered_models(filter_string=f\"name = '{model_name}'\")"
   ]
  },
  {
   "cell_type": "markdown",
   "metadata": {
    "application/vnd.databricks.v1+cell": {
     "cellMetadata": {},
     "inputWidgets": {},
     "nuid": "6e30e424-978d-46af-a722-172fa371efb6",
     "showTitle": false,
     "title": ""
    }
   },
   "source": [
    "In the metadata above, you can see that the model is currently in stage `None` (development).  In this workflow, we will run manual tests, but it would be reasonable to run both automated evaluation and human evaluation in practice.  Once tests pass, we will promote the model to stage `Production` to mark it ready for user-facing applications.\n",
    "\n",
    "*Model URIs*: Below, we use model URIs to tell MLflow which model and version we are referring to.  Two common URI patterns for the MLflow Model Registry are:\n",
    "* `f\"models:/{model_name}/{model_version}\"` to refer to a specific model version by number\n",
    "* `f\"models:/{model_name}/{model_stage}\"` to refer to the latest model version in a given stage"
   ]
  },
  {
   "cell_type": "code",
   "execution_count": 0,
   "metadata": {
    "application/vnd.databricks.v1+cell": {
     "cellMetadata": {},
     "inputWidgets": {},
     "nuid": "6fa4640b-dbda-489e-95a6-90511df666ec",
     "showTitle": false,
     "title": ""
    }
   },
   "outputs": [],
   "source": [
    "model_version = 1\n",
    "dev_model = mlflow.pyfunc.load_model(model_uri=f\"models:/{model_name}/{model_version}\")\n",
    "dev_model"
   ]
  },
  {
   "cell_type": "markdown",
   "metadata": {
    "application/vnd.databricks.v1+cell": {
     "cellMetadata": {},
     "inputWidgets": {},
     "nuid": "7f2711f2-9506-4bb9-af0c-4a7ed9ab274d",
     "showTitle": false,
     "title": ""
    }
   },
   "source": [
    "*Note about model dependencies*:\n",
    "When you load the model via MLflow above, you may see warnings about the Python environment.  It is very important to ensure that the environments for development, staging, and production match.\n",
    "* For this demo notebook, everything is done within the same notebook environment, so we do not need to worry about libraries and versions.  However, in the Production section below, we demonstrate how to pass the `env_manager` argument to the method for loading the saved MLflow model, which tells MLflow what tooling to use to recreate the environment.\n",
    "* To create a genuine production job, make sure to install the needed libraries.  MLflow saves these libraries and versions alongside the logged model; see the [MLflow docs on model storage](https://mlflow.org/docs/latest/models.html#storage-format) for more information.  While using Databricks for this course, you can also generate an example inference notebook which includes code for setting up the environment; see [the model inference docs](https://docs.databricks.com/machine-learning/manage-model-lifecycle/index.html#use-model-for-inference) for batch or streaming inference for more information."
   ]
  },
  {
   "cell_type": "markdown",
   "metadata": {
    "application/vnd.databricks.v1+cell": {
     "cellMetadata": {},
     "inputWidgets": {},
     "nuid": "be8c5514-e006-4294-b22f-1434b9267f0d",
     "showTitle": false,
     "title": ""
    }
   },
   "source": [
    "### Transition to Staging\n",
    "\n",
    "We will move the model to stage `Staging` to indicate that we are actively testing it."
   ]
  },
  {
   "cell_type": "code",
   "execution_count": 0,
   "metadata": {
    "application/vnd.databricks.v1+cell": {
     "cellMetadata": {},
     "inputWidgets": {},
     "nuid": "2f4b9936-37c2-4e70-ae27-7878c1716914",
     "showTitle": false,
     "title": ""
    }
   },
   "outputs": [],
   "source": [
    "client.transition_model_version_stage(model_name, model_version, \"staging\")"
   ]
  },
  {
   "cell_type": "code",
   "execution_count": 0,
   "metadata": {
    "application/vnd.databricks.v1+cell": {
     "cellMetadata": {},
     "inputWidgets": {},
     "nuid": "0189e471-dd56-45fd-b43a-340baf86d15c",
     "showTitle": false,
     "title": ""
    }
   },
   "outputs": [],
   "source": [
    "staging_model = dev_model\n",
    "\n",
    "# An actual CI/CD workflow might load the `staging_model` programmatically.  For example:\n",
    "#   mlflow.pyfunc.load_model(model_uri=f\"models:/{model_name}/{Staging}\")\n",
    "# or\n",
    "#   mlflow.pyfunc.load_model(model_uri=f\"models:/{model_name}/{model_version}\")"
   ]
  },
  {
   "cell_type": "markdown",
   "metadata": {
    "application/vnd.databricks.v1+cell": {
     "cellMetadata": {},
     "inputWidgets": {},
     "nuid": "0a830fe9-6fad-4e2e-b727-689501dff1ce",
     "showTitle": false,
     "title": ""
    }
   },
   "source": [
    "We now \"test\" the model manually on sample data. Here, we simply print out results and compare them with the original data.  In a more realistic setting, we might use a set of human evaluators to decide whether the model outperformed the previous model or system."
   ]
  },
  {
   "cell_type": "code",
   "execution_count": 0,
   "metadata": {
    "application/vnd.databricks.v1+cell": {
     "cellMetadata": {},
     "inputWidgets": {},
     "nuid": "5a032015-b56f-4d12-b4aa-b5461ed7455d",
     "showTitle": false,
     "title": ""
    }
   },
   "outputs": [],
   "source": [
    "results = staging_model.predict(xsum_sample.to_pandas()[\"document\"])\n",
    "display(pd.DataFrame(results, columns=[\"generated_summary\"]))"
   ]
  },
  {
   "cell_type": "markdown",
   "metadata": {
    "application/vnd.databricks.v1+cell": {
     "cellMetadata": {},
     "inputWidgets": {},
     "nuid": "153f6dd4-3945-4c0d-8f9e-eeea9f27d2d5",
     "showTitle": false,
     "title": ""
    }
   },
   "source": [
    "### Transition to Production\n",
    "\n",
    "The results look great!  :) Let's transition the model to Production."
   ]
  },
  {
   "cell_type": "code",
   "execution_count": 0,
   "metadata": {
    "application/vnd.databricks.v1+cell": {
     "cellMetadata": {},
     "inputWidgets": {},
     "nuid": "4da3de6c-f884-48da-9b36-0a697fe528c8",
     "showTitle": false,
     "title": ""
    }
   },
   "outputs": [],
   "source": [
    "client.transition_model_version_stage(model_name, model_version, \"production\")"
   ]
  },
  {
   "cell_type": "markdown",
   "metadata": {
    "application/vnd.databricks.v1+cell": {
     "cellMetadata": {},
     "inputWidgets": {},
     "nuid": "70333e75-ed9f-4d34-901a-03bf867689be",
     "showTitle": false,
     "title": ""
    }
   },
   "source": [
    "## Create a production workflow for batch inference\n",
    "\n",
    "Once the LLM pipeline is in Production, it may be used by one or more production jobs or serving endpoints.  Common deployment locations are:\n",
    "* Batch or streaming inference jobs\n",
    "* Model serving endpoints\n",
    "* Edge devices\n",
    "\n",
    "Here, we will show batch inference using Apache Spark DataFrames, with Delta Lake format.  Spark allows simple scale-out inference for high-throughput, low-cost jobs, and Delta allows us to append to and modify inference result tables with ACID transactions.  See the [Apache Spark page](https://spark.apache.org/) and the [Delta Lake page](https://delta.io/) more more information on these technologies."
   ]
  },
  {
   "cell_type": "code",
   "execution_count": 0,
   "metadata": {
    "application/vnd.databricks.v1+cell": {
     "cellMetadata": {},
     "inputWidgets": {},
     "nuid": "d46fc87b-dfc3-46ff-a868-72ff19c4ada3",
     "showTitle": false,
     "title": ""
    }
   },
   "outputs": [],
   "source": [
    "# Load our data as a Spark DataFrame.\n",
    "# Recall that we saved this as Delta at the start of the notebook.\n",
    "# Also note that it has a ground-truth summary column.\n",
    "prod_data = spark.read.format(\"delta\").load(prod_data_path).limit(10)\n",
    "display(prod_data)"
   ]
  },
  {
   "cell_type": "markdown",
   "metadata": {
    "application/vnd.databricks.v1+cell": {
     "cellMetadata": {},
     "inputWidgets": {},
     "nuid": "fb5989df-9c19-41ec-97e2-a1ec6b59ccdd",
     "showTitle": false,
     "title": ""
    }
   },
   "source": [
    "Below, we load the model using `mlflow.pyfunc.spark_udf`.  This returns the model as a Spark User Defined Function which can be applied efficiently to big data.  *Note that the deployment code is library-agnostic: it never references that the model is a Hugging Face pipeline.*  This simplified deployment is possible because MLflow logs environment metadata and \"knows\" how to load the model and run it."
   ]
  },
  {
   "cell_type": "code",
   "execution_count": 0,
   "metadata": {
    "application/vnd.databricks.v1+cell": {
     "cellMetadata": {},
     "inputWidgets": {},
     "nuid": "4d1fd217-012f-49c5-9739-b862ce9bd300",
     "showTitle": false,
     "title": ""
    }
   },
   "outputs": [],
   "source": [
    "# MLflow lets you grab the latest model version in a given stage.  Here, we grab the latest Production version.\n",
    "prod_model_udf = mlflow.pyfunc.spark_udf(\n",
    "    spark,\n",
    "    model_uri=f\"models:/{model_name}/Production\",\n",
    "    env_manager=\"local\",\n",
    "    result_type=\"string\",\n",
    ")"
   ]
  },
  {
   "cell_type": "code",
   "execution_count": 0,
   "metadata": {
    "application/vnd.databricks.v1+cell": {
     "cellMetadata": {},
     "inputWidgets": {},
     "nuid": "31fffb29-06f6-4df4-b429-e51109039750",
     "showTitle": false,
     "title": ""
    }
   },
   "outputs": [],
   "source": [
    "# Run inference by appending a new column to the DataFrame\n",
    "\n",
    "batch_inference_results = prod_data.withColumn(\n",
    "    \"generated_summary\", prod_model_udf(\"document\")\n",
    ")\n",
    "display(batch_inference_results)"
   ]
  },
  {
   "cell_type": "markdown",
   "metadata": {
    "application/vnd.databricks.v1+cell": {
     "cellMetadata": {},
     "inputWidgets": {},
     "nuid": "15a521f0-e489-4eeb-b0af-1eebf9553763",
     "showTitle": false,
     "title": ""
    }
   },
   "source": [
    "We can now write out our inference results to another Delta table.  Here, we append the results to an existing table (and create the table if it does not exist)."
   ]
  },
  {
   "cell_type": "code",
   "execution_count": 0,
   "metadata": {
    "application/vnd.databricks.v1+cell": {
     "cellMetadata": {},
     "inputWidgets": {},
     "nuid": "8580646c-f5a8-4489-974f-e061061a3510",
     "showTitle": false,
     "title": ""
    }
   },
   "outputs": [],
   "source": [
    "inference_results_path = f\"{DA.paths.working_dir}/m6-inference-results\".replace(\n",
    "    \"/dbfs\", \"dbfs:\"\n",
    ")\n",
    "batch_inference_results.write.format(\"delta\").mode(\"append\").save(\n",
    "    inference_results_path\n",
    ")"
   ]
  },
  {
   "cell_type": "markdown",
   "metadata": {
    "application/vnd.databricks.v1+cell": {
     "cellMetadata": {},
     "inputWidgets": {},
     "nuid": "6d2d01de-4923-4673-abc4-6830440616cf",
     "showTitle": false,
     "title": ""
    }
   },
   "source": [
    "And that's it!  To create a production job, we could for example take the new lines of code above, put them in a new notebook, and schedule it as an automated workflow.  MLflow can be integrated with essentially any deployment system, but for more information specific to this Databricks workspace, see the \"Use model for inference\" documentation for [AWS](https://docs.databricks.com/machine-learning/manage-model-lifecycle/index.html#use-model-for-inference), [Azure](https://learn.microsoft.com/en-us/azure/databricks/machine-learning/manage-model-lifecycle/#--use-model-for-inference), or [GCP](https://docs.gcp.databricks.com/machine-learning/manage-model-lifecycle/index.html#use-model-for-inference).\n",
    "\n",
    "We did not cover model serving for real-time inference, but MLflow models can be deployed to any cloud or on-prem serving systems.  For more information, see the [open-source MLflow Model Registry docs](https://mlflow.org/docs/latest/model-registry.html) or the [Databricks Model Serving docs](https://docs.databricks.com/machine-learning/model-serving/index.html).\n",
    "\n",
    "For other topics not covered, see [\"The Big Book of MLOps.\"](https://www.databricks.com/resources/ebook/the-big-book-of-mlops)"
   ]
  },
  {
   "cell_type": "markdown",
   "metadata": {
    "application/vnd.databricks.v1+cell": {
     "cellMetadata": {},
     "inputWidgets": {},
     "nuid": "f8793486-444a-4d8f-a0df-4e742b3131b8",
     "showTitle": false,
     "title": ""
    }
   },
   "source": [
    "## Summary\n",
    "\n",
    "We have now walked through a full example of going from development to production.  Our LLM pipeline was very simple, but LLM Ops for a more complex workflow (such as fine-tuning a custom model) would be very similar.  You still follow the basic Ops steps of:\n",
    "* Development: Creating the pipeline or model, tracking the process in the MLflow Tracking server and saving the final pipeline or model.\n",
    "* Staging: Registering a new model or version in the MLflow Model Registry, testing it, and promoting it through Staging to Production.\n",
    "* Production: Creating an inference job, or creating a model serving endpoint."
   ]
  },
  {
   "cell_type": "markdown",
   "metadata": {
    "application/vnd.databricks.v1+cell": {
     "cellMetadata": {},
     "inputWidgets": {},
     "nuid": "9f4163e3-65d2-4582-8428-b3eb8e44c607",
     "showTitle": false,
     "title": ""
    }
   },
   "source": [
    "-sandbox\n",
    "&copy; 2023 Databricks, Inc. All rights reserved.<br/>\n",
    "Apache, Apache Spark, Spark and the Spark logo are trademarks of the <a href=\"https://www.apache.org/\">Apache Software Foundation</a>.<br/>\n",
    "<br/>\n",
    "<a href=\"https://databricks.com/privacy-policy\">Privacy Policy</a> | <a href=\"https://databricks.com/terms-of-use\">Terms of Use</a> | <a href=\"https://help.databricks.com/\">Support</a>"
   ]
  }
 ],
 "metadata": {
  "application/vnd.databricks.v1+notebook": {
   "dashboards": [],
   "language": "python",
   "notebookMetadata": {},
   "notebookName": "LLM 06 - LLMOps",
   "widgets": {}
  }
 },
 "nbformat": 4,
 "nbformat_minor": 0
}
