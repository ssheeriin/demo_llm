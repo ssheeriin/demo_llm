{
 "cells": [
  {
   "cell_type": "markdown",
   "metadata": {
    "application/vnd.databricks.v1+cell": {
     "cellMetadata": {},
     "inputWidgets": {},
     "nuid": "1bb94c5e-ca57-4ce1-9a30-efc50b23abb3",
     "showTitle": false,
     "title": ""
    }
   },
   "source": [
    "-sandbox\n",
    "\n",
    "<div style=\"text-align: center; line-height: 0; padding-top: 9px;\">\n",
    "  <img src=\"https://databricks.com/wp-content/uploads/2018/03/db-academy-rgb-1200px.png\" alt=\"Databricks Learning\" style=\"width: 600px\">\n",
    "</div>"
   ]
  },
  {
   "cell_type": "markdown",
   "metadata": {
    "application/vnd.databricks.v1+cell": {
     "cellMetadata": {},
     "inputWidgets": {},
     "nuid": "53e7b0ff-24ca-42c0-8e41-17797b5d71fd",
     "showTitle": false,
     "title": ""
    }
   },
   "source": [
    "# LLMs and Society Lab\n",
    "\n",
    "### ![Dolly](https://files.training.databricks.com/images/llm/dolly_small.png) Learning Objectives\n",
    "1. Learn how to evaluate polarity towards certain demographic groups using `regard`\n",
    "    - We will first evaluate whether dancers are regarded differently from scientists\n",
    "    - You will then compute `regard` with other groups of your choice\n",
    "2. Test your language model by changing text using `sparknlp`"
   ]
  },
  {
   "cell_type": "code",
   "execution_count": 0,
   "metadata": {
    "application/vnd.databricks.v1+cell": {
     "cellMetadata": {},
     "inputWidgets": {},
     "nuid": "5bdfe712-a292-4c44-9173-fa35074695a2",
     "showTitle": false,
     "title": ""
    }
   },
   "outputs": [],
   "source": [
    "%pip install nlptest==1.4.0"
   ]
  },
  {
   "cell_type": "markdown",
   "metadata": {
    "application/vnd.databricks.v1+cell": {
     "cellMetadata": {},
     "inputWidgets": {},
     "nuid": "898b6565-02b6-4f0b-8d0f-28944b3de69c",
     "showTitle": false,
     "title": ""
    }
   },
   "source": [
    "## Classroom Setup"
   ]
  },
  {
   "cell_type": "code",
   "execution_count": 0,
   "metadata": {
    "application/vnd.databricks.v1+cell": {
     "cellMetadata": {},
     "inputWidgets": {},
     "nuid": "4737b700-e3ab-498b-aa9c-019b61b3bc55",
     "showTitle": false,
     "title": ""
    }
   },
   "outputs": [],
   "source": [
    "%run ../Includes/Classroom-Setup"
   ]
  },
  {
   "cell_type": "markdown",
   "metadata": {
    "application/vnd.databricks.v1+cell": {
     "cellMetadata": {},
     "inputWidgets": {},
     "nuid": "450e90a5-f04e-4895-811f-94ac0e756c31",
     "showTitle": false,
     "title": ""
    }
   },
   "source": [
    "## Evaluate Regard \n",
    "\n",
    "We will use the [BOLD dataset](https://huggingface.co/datasets/AlexaAI/bold), created by Alexa AI, that allows us to evaluate model fairness in English text generation. Specifically, we will use categories within this dataset to prompt the language model for text completion. Some example categories include:\n",
    "- gender \n",
    "- professions\n",
    "- religions\n",
    "\n",
    "Continuing from the demo, we will use the same `evaluate` library from Hugging Face, but leverage a separate module called `regard`. We evaluate model fairness from the angle of polarity or perception to see if one group is assigned a higher regard score than the other."
   ]
  },
  {
   "cell_type": "code",
   "execution_count": 0,
   "metadata": {
    "application/vnd.databricks.v1+cell": {
     "cellMetadata": {},
     "inputWidgets": {},
     "nuid": "d36407cb-14a7-4173-af4f-d2965a64e75f",
     "showTitle": false,
     "title": ""
    }
   },
   "outputs": [],
   "source": [
    "from datasets import load_dataset\n",
    "\n",
    "bold = load_dataset(\n",
    "    \"AlexaAI/bold\", split=\"train\", cache_dir=DA.paths.datasets\n",
    ")  # Note: We specify cache_dir to use pre-cached data."
   ]
  },
  {
   "cell_type": "markdown",
   "metadata": {
    "application/vnd.databricks.v1+cell": {
     "cellMetadata": {},
     "inputWidgets": {},
     "nuid": "d0baf002-fa64-400b-8ff2-472cffc1048c",
     "showTitle": false,
     "title": ""
    }
   },
   "source": [
    "In this exercise, we will examine whether people in the `dance_occupations` are regarded any differently than those in `scientific_occupations`."
   ]
  },
  {
   "cell_type": "code",
   "execution_count": 0,
   "metadata": {
    "application/vnd.databricks.v1+cell": {
     "cellMetadata": {},
     "inputWidgets": {},
     "nuid": "fdf3bad7-80ec-4ee2-a018-57a98e4d2f5f",
     "showTitle": false,
     "title": ""
    }
   },
   "outputs": [],
   "source": [
    "from random import sample\n",
    "\n",
    "def generate_samples(category_name: str, n: int) -> list:\n",
    "    \"\"\"\n",
    "    Given a category, returns `n` samples\n",
    "    \"\"\"\n",
    "    bold_samples = sample([p for p in bold if p[\"category\"] == category_name], n)\n",
    "    return bold_samples\n",
    "\n",
    "science_bold = generate_samples(\"scientific_occupations\", 10)\n",
    "dance_bold = generate_samples(\"dance_occupations\", 10)\n",
    "\n",
    "print(\"Science example: \", science_bold[0])\n",
    "print(\"-\" * 60)\n",
    "print(\"Dance example: \", dance_bold[0])"
   ]
  },
  {
   "cell_type": "markdown",
   "metadata": {
    "application/vnd.databricks.v1+cell": {
     "cellMetadata": {},
     "inputWidgets": {},
     "nuid": "15822dbc-3567-4685-a568-18269b0ae6d9",
     "showTitle": false,
     "title": ""
    }
   },
   "source": [
    "### Question 1\n",
    "Now, it's your turn to generate some samples. Run the following cell to get a complete list of categories covered by BOLD.\n",
    "\n",
    "If you need inspiration, try `American_actors` and `American_actresses`."
   ]
  },
  {
   "cell_type": "code",
   "execution_count": 0,
   "metadata": {
    "application/vnd.databricks.v1+cell": {
     "cellMetadata": {},
     "inputWidgets": {},
     "nuid": "87a1bc91-0dda-4b22-9839-910d90c58b2e",
     "showTitle": false,
     "title": ""
    }
   },
   "outputs": [],
   "source": [
    "import numpy as np\n",
    "\n",
    "np.unique(bold[\"category\"])"
   ]
  },
  {
   "cell_type": "code",
   "execution_count": 0,
   "metadata": {
    "application/vnd.databricks.v1+cell": {
     "cellMetadata": {},
     "inputWidgets": {},
     "nuid": "609e8245-a8a8-43e7-91f5-aa4f4c1febf4",
     "showTitle": false,
     "title": ""
    }
   },
   "outputs": [],
   "source": [
    "# TODO\n",
    "\n",
    "# Generate samples from BOLD dataset\n",
    "group1_bold = generate_samples(\"<FILL_IN>\", 10)\n",
    "group2_bold = generate_samples(\"<FILL_IN>\", 10)"
   ]
  },
  {
   "cell_type": "code",
   "execution_count": 0,
   "metadata": {
    "application/vnd.databricks.v1+cell": {
     "cellMetadata": {},
     "inputWidgets": {},
     "nuid": "2c37a0d3-3492-4c01-921c-2ad95e1a0c50",
     "showTitle": false,
     "title": ""
    }
   },
   "outputs": [],
   "source": [
    "# Test your answer. DO NOT MODIFY THIS CELL.\n",
    "\n",
    "dbTestQuestion5_1(group1_bold, group2_bold)"
   ]
  },
  {
   "cell_type": "markdown",
   "metadata": {
    "application/vnd.databricks.v1+cell": {
     "cellMetadata": {},
     "inputWidgets": {},
     "nuid": "53d12f08-d328-41bf-8605-7fb9b8070bc6",
     "showTitle": false,
     "title": ""
    }
   },
   "source": [
    "Now, let's get some prompts from each of the categories"
   ]
  },
  {
   "cell_type": "code",
   "execution_count": 0,
   "metadata": {
    "application/vnd.databricks.v1+cell": {
     "cellMetadata": {},
     "inputWidgets": {},
     "nuid": "f025ce51-191e-45d8-abd4-5a5155b18bdb",
     "showTitle": false,
     "title": ""
    }
   },
   "outputs": [],
   "source": [
    "science_prompts = [p[\"prompts\"][0] for p in science_bold]\n",
    "dance_prompts = [p[\"prompts\"][0] for p in dance_bold]\n",
    "print(\"Science prompt example: \", science_prompts[0])\n",
    "print(\"Dance prompt example: \", dance_prompts[0])"
   ]
  },
  {
   "cell_type": "markdown",
   "metadata": {
    "application/vnd.databricks.v1+cell": {
     "cellMetadata": {},
     "inputWidgets": {},
     "nuid": "49b5625f-d6ec-4dfa-8c77-bc3b1f1552a0",
     "showTitle": false,
     "title": ""
    }
   },
   "source": [
    "### Question 2\n",
    "It's your turn to get prompts from the samples."
   ]
  },
  {
   "cell_type": "code",
   "execution_count": 0,
   "metadata": {
    "application/vnd.databricks.v1+cell": {
     "cellMetadata": {},
     "inputWidgets": {},
     "nuid": "370a54fb-d4a6-438f-b985-c9ff5617ab47",
     "showTitle": false,
     "title": ""
    }
   },
   "outputs": [],
   "source": [
    "# TODO\n",
    "\n",
    "group1_prompts = [p[\"prompts\"][0] for p in <FILL_IN>]\n",
    "group2_prompts = [p[\"prompts\"][0] for p in <FILL_IN>]"
   ]
  },
  {
   "cell_type": "code",
   "execution_count": 0,
   "metadata": {
    "application/vnd.databricks.v1+cell": {
     "cellMetadata": {},
     "inputWidgets": {},
     "nuid": "6b24b63a-1e0e-4c9a-9120-84cbd360c778",
     "showTitle": false,
     "title": ""
    }
   },
   "outputs": [],
   "source": [
    "# Test your answer. DO NOT MODIFY THIS CELL.\n",
    "\n",
    "dbTestQuestion5_2(group1_prompts, group2_prompts)"
   ]
  },
  {
   "cell_type": "markdown",
   "metadata": {
    "application/vnd.databricks.v1+cell": {
     "cellMetadata": {},
     "inputWidgets": {},
     "nuid": "ecaee4f8-75fa-4aab-9130-85067f59027a",
     "showTitle": false,
     "title": ""
    }
   },
   "source": [
    "Let's put GPT-2 to test. Does our model complete the sentences with equal regard for both the scientist and the dancer?"
   ]
  },
  {
   "cell_type": "code",
   "execution_count": 0,
   "metadata": {
    "application/vnd.databricks.v1+cell": {
     "cellMetadata": {},
     "inputWidgets": {},
     "nuid": "e95a2498-cc6f-4a31-810a-4e824820b7e4",
     "showTitle": false,
     "title": ""
    }
   },
   "outputs": [],
   "source": [
    "from transformers import pipeline, AutoTokenizer\n",
    "\n",
    "text_generation = pipeline(\n",
    "    \"text-generation\", model=\"gpt2\", model_kwargs={\"cache_dir\": DA.paths.datasets}\n",
    ")  # Note: We specify cache_dir to use a pre-cached model.\n",
    "\n",
    "def complete_sentence(text_generation_pipeline: pipeline, prompts: list) -> list:\n",
    "    \"\"\"\n",
    "    Via a list of prompts a prompt list is appended to by the generated `text_generation_pipeline`.\n",
    "    \"\"\"\n",
    "    prompt_continuations = []\n",
    "    for prompt in prompts:\n",
    "        generation = text_generation_pipeline(\n",
    "            prompt, max_length=30, do_sample=False, pad_token_id=50256\n",
    "        )\n",
    "        continuation = generation[0][\"generated_text\"].replace(prompt, \"\")\n",
    "        prompt_continuations.append(continuation)\n",
    "    return prompt_continuations"
   ]
  },
  {
   "cell_type": "markdown",
   "metadata": {
    "application/vnd.databricks.v1+cell": {
     "cellMetadata": {},
     "inputWidgets": {},
     "nuid": "5df0314f-c8fa-4249-a36f-22c72c623102",
     "showTitle": false,
     "title": ""
    }
   },
   "source": [
    "We will now complete the sentences for the dancers."
   ]
  },
  {
   "cell_type": "code",
   "execution_count": 0,
   "metadata": {
    "application/vnd.databricks.v1+cell": {
     "cellMetadata": {},
     "inputWidgets": {},
     "nuid": "53bead59-9508-41fb-bc66-bc5c12567bcf",
     "showTitle": false,
     "title": ""
    }
   },
   "outputs": [],
   "source": [
    "dance_continuation = complete_sentence(text_generation, dance_prompts)"
   ]
  },
  {
   "cell_type": "markdown",
   "metadata": {
    "application/vnd.databricks.v1+cell": {
     "cellMetadata": {},
     "inputWidgets": {},
     "nuid": "3649ec4c-7658-44b1-a6ba-ccb863a56f60",
     "showTitle": false,
     "title": ""
    }
   },
   "source": [
    "Then, let's generate text for scientists."
   ]
  },
  {
   "cell_type": "code",
   "execution_count": 0,
   "metadata": {
    "application/vnd.databricks.v1+cell": {
     "cellMetadata": {},
     "inputWidgets": {},
     "nuid": "b1255058-882f-4cb6-8541-b808384b3b47",
     "showTitle": false,
     "title": ""
    }
   },
   "outputs": [],
   "source": [
    "science_continuation = complete_sentence(text_generation, science_prompts)"
   ]
  },
  {
   "cell_type": "markdown",
   "metadata": {
    "application/vnd.databricks.v1+cell": {
     "cellMetadata": {},
     "inputWidgets": {},
     "nuid": "a902813e-cd46-4cf4-85f9-eea33717fd7b",
     "showTitle": false,
     "title": ""
    }
   },
   "source": [
    "### Question 3\n",
    "Your turn to ask the model to complete sentences for each group!"
   ]
  },
  {
   "cell_type": "code",
   "execution_count": 0,
   "metadata": {
    "application/vnd.databricks.v1+cell": {
     "cellMetadata": {},
     "inputWidgets": {},
     "nuid": "6c325c33-910b-4811-9df4-6283104b2cb5",
     "showTitle": false,
     "title": ""
    }
   },
   "outputs": [],
   "source": [
    "# TODO\n",
    "\n",
    "group1_continuation = complete_sentence(<FILL_IN>)\n",
    "group2_continuation = complete_sentence(<FILL_IN>)"
   ]
  },
  {
   "cell_type": "code",
   "execution_count": 0,
   "metadata": {
    "application/vnd.databricks.v1+cell": {
     "cellMetadata": {},
     "inputWidgets": {},
     "nuid": "f3964e8b-128c-4ed8-94ec-45df3e3407bb",
     "showTitle": false,
     "title": ""
    }
   },
   "outputs": [],
   "source": [
    "# Test your answer. DO NOT MODIFY THIS CELL.\n",
    "\n",
    "dbTestQuestion5_3(group1_continuation, group2_continuation)"
   ]
  },
  {
   "cell_type": "markdown",
   "metadata": {
    "application/vnd.databricks.v1+cell": {
     "cellMetadata": {},
     "inputWidgets": {},
     "nuid": "259aebe7-df20-4e17-bfe1-eb4b43196f16",
     "showTitle": false,
     "title": ""
    }
   },
   "source": [
    "Now that we have the prompts and the completion examples by GPT-2, we can evaluate the differences in regard towards both groups."
   ]
  },
  {
   "cell_type": "code",
   "execution_count": 0,
   "metadata": {
    "application/vnd.databricks.v1+cell": {
     "cellMetadata": {},
     "inputWidgets": {},
     "nuid": "0a131029-f1da-4760-be69-9287bc1d0509",
     "showTitle": false,
     "title": ""
    }
   },
   "outputs": [],
   "source": [
    "import evaluate\n",
    "\n",
    "regard = evaluate.load(\"regard\", \"compare\", cache_dir=DA.paths.datasets)"
   ]
  },
  {
   "cell_type": "markdown",
   "metadata": {
    "application/vnd.databricks.v1+cell": {
     "cellMetadata": {},
     "inputWidgets": {},
     "nuid": "af196ed3-dc9f-42a7-a55d-e7a497f7fef4",
     "showTitle": false,
     "title": ""
    }
   },
   "source": [
    "Wow, based on the `positive` regard field, we see that people in scientific occupations are regarded much more positively than those in dance (refer to the `positive` field) !"
   ]
  },
  {
   "cell_type": "code",
   "execution_count": 0,
   "metadata": {
    "application/vnd.databricks.v1+cell": {
     "cellMetadata": {},
     "inputWidgets": {},
     "nuid": "cf532d87-b02d-4083-b541-26e212fb3071",
     "showTitle": false,
     "title": ""
    }
   },
   "outputs": [],
   "source": [
    "# this returns the regard scores of each string in the input list\n",
    "regard.compute(data=science_continuation, references=dance_continuation)"
   ]
  },
  {
   "cell_type": "markdown",
   "metadata": {
    "application/vnd.databricks.v1+cell": {
     "cellMetadata": {},
     "inputWidgets": {},
     "nuid": "1135ed00-cf54-473b-a903-bdeb8621e9dc",
     "showTitle": false,
     "title": ""
    }
   },
   "source": [
    "### Question 4\n",
    "Now, compute regard score for your groups!"
   ]
  },
  {
   "cell_type": "code",
   "execution_count": 0,
   "metadata": {
    "application/vnd.databricks.v1+cell": {
     "cellMetadata": {},
     "inputWidgets": {},
     "nuid": "cb9a25f9-ed8e-4877-b336-fc46e19f7cb7",
     "showTitle": false,
     "title": ""
    }
   },
   "outputs": [],
   "source": [
    "# TODO\n",
    "\n",
    "regard.compute(data=<FILL_IN>, references=<FILL_IN>)"
   ]
  },
  {
   "cell_type": "code",
   "execution_count": 0,
   "metadata": {
    "application/vnd.databricks.v1+cell": {
     "cellMetadata": {},
     "inputWidgets": {},
     "nuid": "077ba298-f77f-47e3-8e39-0c7f7e373ef2",
     "showTitle": false,
     "title": ""
    }
   },
   "outputs": [],
   "source": [
    "# Test your answer. DO NOT MODIFY THIS CELL.\n",
    "\n",
    "dbTestQuestion5_4(\n",
    "    regard.compute(data=group1_continuation, references=group2_continuation)\n",
    ")"
   ]
  },
  {
   "cell_type": "markdown",
   "metadata": {
    "application/vnd.databricks.v1+cell": {
     "cellMetadata": {},
     "inputWidgets": {},
     "nuid": "a8e7004e-7f79-4d27-b6f9-87fb6f8571ab",
     "showTitle": false,
     "title": ""
    }
   },
   "source": [
    "## Bonus: NLP Test\n",
    "\n",
    "To switch gears a bit, we will now turn to looking at how we can test our NLP models and see how safe and effective they are using `nlptest`. The [library](https://nlptest.org/) is developed by SparkNLP and aims to provide user-friendly APIs to help evaluate models. This library was just released in April 2023. \n",
    "\n",
    "The test categories include:\n",
    "\n",
    "- Accuracy\n",
    "- Bias\n",
    "- Fairness\n",
    "- Representation\n",
    "- Robustness\n",
    "\n",
    "Currently, the library supports either `text-classification` or `ner` task.\n",
    "\n",
    "To start, we will use the `Harness` class to define what types of tests we would like to conduct on any given NLP model. You can read more about [Harness here](https://nlptest.org/docs/pages/docs/harness). The cell below provides a quick one-liner to show how you can evaluate the model, `dslim/bert-base-NER` from HuggingFace on a Named Entity Recognition (NER) task.\n",
    "\n",
    "You can choose to provide your own saved model or load existing models from `spacy` or `John Snow Labs` as well."
   ]
  },
  {
   "cell_type": "code",
   "execution_count": 0,
   "metadata": {
    "application/vnd.databricks.v1+cell": {
     "cellMetadata": {},
     "inputWidgets": {},
     "nuid": "e58e766b-6810-4d3f-a6cd-0c9da141f803",
     "showTitle": false,
     "title": ""
    }
   },
   "outputs": [],
   "source": [
    "from nlptest import Harness\n",
    "\n",
    "# Create a Harness object\n",
    "h = Harness(task=\"ner\", model=\"dslim/bert-base-NER\", hub=\"huggingface\")"
   ]
  },
  {
   "cell_type": "markdown",
   "metadata": {
    "application/vnd.databricks.v1+cell": {
     "cellMetadata": {},
     "inputWidgets": {},
     "nuid": "123c70a5-685d-45bc-a91d-0c45c900c69f",
     "showTitle": false,
     "title": ""
    }
   },
   "source": [
    "We won't run the following cell since it could take up to 7 mins. This is a one-liner that runs all tests against the language model you supply. \n",
    "\n",
    "Notice that it consists of three steps: \n",
    "1. Generate test cases\n",
    "2. Run the test cases\n",
    "3. Generate a report of your test cases"
   ]
  },
  {
   "cell_type": "code",
   "execution_count": 0,
   "metadata": {
    "application/vnd.databricks.v1+cell": {
     "cellMetadata": {},
     "inputWidgets": {},
     "nuid": "7412a955-2b6a-473c-8296-6b320b4589ea",
     "showTitle": false,
     "title": ""
    }
   },
   "outputs": [],
   "source": [
    "# h.generate().run().report()"
   ]
  },
  {
   "cell_type": "markdown",
   "metadata": {
    "application/vnd.databricks.v1+cell": {
     "cellMetadata": {},
     "inputWidgets": {},
     "nuid": "33cd3fcd-bf61-480b-b9d8-82c9d1c4c5f7",
     "showTitle": false,
     "title": ""
    }
   },
   "source": [
    "If you do run `h.generate().run.report()` above, you can see that the report generates different test cases from different `test_type` and `category`. Specifically, it's unsurprising to see that the model fails the `lowercase` test for a NER use case. After all, if we lowercase all names, it would be hard to tell if the names are indeed referring to proper nouns, e.g. \"the los angeles time\" vs. \"the Los Angeles Times\".\n",
    "\n",
    "You can get a complete list of tests in their [documentation](https://nlptest.org/docs/pages/tests/test). For example, for `add_typo`, it checks whether the NLP model we use can handle input text with typos."
   ]
  },
  {
   "cell_type": "markdown",
   "metadata": {
    "application/vnd.databricks.v1+cell": {
     "cellMetadata": {},
     "inputWidgets": {},
     "nuid": "60c0e1a5-4b93-47cd-8c88-01be2adb2da3",
     "showTitle": false,
     "title": ""
    }
   },
   "source": [
    "## Submit your Results (edX Verified Only)\n",
    "\n",
    "To get credit for this lab, click the submit button in the top right to report the results. If you run into any issues, click `Run` -> `Clear state and run all`, and make sure all tests have passed before re-submitting. If you accidentally deleted any tests, take a look at the notebook's version history to recover them or reload the notebooks."
   ]
  },
  {
   "cell_type": "markdown",
   "metadata": {
    "application/vnd.databricks.v1+cell": {
     "cellMetadata": {},
     "inputWidgets": {},
     "nuid": "934b0699-a924-4e7c-978b-2c4761b9737e",
     "showTitle": false,
     "title": ""
    }
   },
   "source": [
    "-sandbox\n",
    "&copy; 2023 Databricks, Inc. All rights reserved.<br/>\n",
    "Apache, Apache Spark, Spark and the Spark logo are trademarks of the <a href=\"https://www.apache.org/\">Apache Software Foundation</a>.<br/>\n",
    "<br/>\n",
    "<a href=\"https://databricks.com/privacy-policy\">Privacy Policy</a> | <a href=\"https://databricks.com/terms-of-use\">Terms of Use</a> | <a href=\"https://help.databricks.com/\">Support</a>"
   ]
  }
 ],
 "metadata": {
  "application/vnd.databricks.v1+notebook": {
   "dashboards": [],
   "language": "python",
   "notebookMetadata": {},
   "notebookName": "LLM 05L - LLMs and Society Lab",
   "widgets": {}
  }
 },
 "nbformat": 4,
 "nbformat_minor": 0
}
