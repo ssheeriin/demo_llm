{
 "cells": [
  {
   "cell_type": "markdown",
   "source": [
    "(https://towardsdatascience.com/harnessing-the-power-of-knowledge-graphs-enriching-an-llm-with-structured-data-997fabc62386)"
   ],
   "metadata": {
    "collapsed": false
   },
   "id": "830175defea2dc4d"
  },
  {
   "cell_type": "code",
   "execution_count": null,
   "outputs": [],
   "source": [
    "!pip3 install pandas rdflib SPARQLWrapper tqdm"
   ],
   "metadata": {
    "collapsed": false
   },
   "id": "6cba90fdc3e1677"
  },
  {
   "cell_type": "code",
   "execution_count": null,
   "outputs": [],
   "source": [
    "import requests\n",
    "import json\n",
    "import pandas as pd\n",
    "\n",
    "url = 'https://search.worldbank.org/api/v2/wds'\n",
    "params = {\n",
    "  'format': 'json',\n",
    "  'display_title': '\"sustainable development\"',\n",
    "  'rows': 20,\n",
    "  'page': 1\n",
    "}\n",
    "\n",
    "metadata_list = []\n",
    "\n",
    "for i in range(1):\n",
    "  response = requests.get(url, params=params)\n",
    "  data = json.loads(response.content)\n",
    "  for doc_id in data['documents']:\n",
    "    metadata = data['documents'][doc_id]\n",
    "    metadata_list.append(metadata)\n",
    "\n",
    "  params['page'] += 1\n",
    "\n",
    "df = pd.DataFrame(metadata_list)"
   ],
   "metadata": {
    "collapsed": false
   },
   "id": "initial_id"
  },
  {
   "cell_type": "code",
   "execution_count": null,
   "outputs": [],
   "source": [
    "print(df)"
   ],
   "metadata": {
    "collapsed": false
   },
   "id": "c47d91ece36b2373"
  },
  {
   "cell_type": "code",
   "execution_count": null,
   "outputs": [],
   "source": [
    "from rdflib import Graph, RDF, RDFS, Namespace, URIRef, Literal\n",
    "from rdflib.namespace import SKOS, XSD\n",
    "from SPARQLWrapper import SPARQLWrapper, JSON\n",
    "from tqdm import tqdm\n",
    "\n",
    "# Create a new RDF graph\n",
    "g = Graph()\n",
    "\n",
    "schema = Namespace('http://schema.org/')\n",
    "wd = Namespace('http://www.wikidata.org/entity/')\n",
    "\n",
    "# Define namespaces\n",
    "prefixes = {\n",
    "  'schema': schema,\n",
    "  'wd': wd,\n",
    "  'skos': SKOS,\n",
    "  'xsd': XSD\n",
    "}\n",
    "for p, ns in prefixes.items():\n",
    "  g.bind(p, ns)"
   ],
   "metadata": {
    "collapsed": false
   },
   "id": "738129c713a2a652"
  },
  {
   "cell_type": "code",
   "execution_count": null,
   "outputs": [],
   "source": [
    "def create_subclass_country(column):\n",
    "  newClass = URIRef(schema + \"country\")\n",
    "  g.add((newClass, RDFS.label, Literal(\"country\", lang='en')))\n",
    "  df[column] = df[column].astype(str)\n",
    "  for value in df[column].unique():\n",
    "    if value != \"nan\":\n",
    "      # Check Wikidata for a matching class\n",
    "      sparql = SPARQLWrapper(\"https://query.wikidata.org/sparql\")\n",
    "      query = f\"\"\"\n",
    "                SELECT ?class ?label WHERE {{\n",
    "                    ?class wdt:P31 wd:Q6256 .\n",
    "                    ?class rdfs:label \"{value}\"@en .\n",
    "                    OPTIONAL {{ ?class skos:prefLabel ?label FILTER(lang(?label) = \"en\") }}\n",
    "                    FILTER(REGEX(STR(?class), \"^http://www.wikidata.org/entity/Q[0-9]+$\"))\n",
    "                }}\n",
    "            \"\"\"\n",
    "      sparql.setQuery(query)\n",
    "      sparql.setReturnFormat(JSON)\n",
    "      results = sparql.query().convert()\n",
    "\n",
    "      # If there is a match, use the Wikidata class as a subclass\n",
    "      if results['results']['bindings']:\n",
    "\n",
    "        #Get URI from Wikidata\n",
    "        uri = results['results']['bindings'][0]['class']['value']\n",
    "\n",
    "        #Get the 'Q ID' which is the unique ID at the end of the URI\n",
    "        qid = uri.split('/')[-1]\n",
    "        country_label = value\n",
    "\n",
    "        #Create a subclass for each country under the country class\n",
    "        subclass = URIRef(schema + country_label.replace(' ', '_'))\n",
    "        g.add((subclass, RDF.type, RDFS.Class))\n",
    "        g.add((subclass, RDFS.subClassOf, newClass))\n",
    "\n",
    "        # Update the \"country_URI\" column with the URI for the current country\n",
    "        df.loc[df[column] == value, \"country_URI\"] = uri\n",
    "        uri = URIRef(uri)\n",
    "\n",
    "        # Define the URI for the new Wikidata URI property\n",
    "        wd_URI_property = URIRef(schema + \"wd_URI\")\n",
    "\n",
    "        # Add the property to the RDF graph\n",
    "        g.add((wd_URI_property, RDF.type, RDF.Property))\n",
    "\n",
    "        # Add a label to the property\n",
    "        label = Literal(\"Wikidata URI\", lang=\"en\")\n",
    "        g.add((wd_URI_property, RDFS.label, label))\n",
    "\n",
    "        #Add Wikidata URI as a property to each country class\n",
    "        g.add((subclass, schema.wd_URI, uri))\n",
    "\n",
    "        #Add label to each Wikidata Q ID code that it is the Q ID for this particular country\n",
    "        g.add((uri, RDFS.label, Literal(f\"{country_label} wikidata code\", lang='en')))\n",
    "        g.add((subclass, RDFS.label, Literal(value, lang='en')))\n",
    "      else:\n",
    "        subclass = URIRef(schema + value.replace(' ', '_').replace('-','_'))\n",
    "        g.add((subclass, RDF.type, RDFS.Class))\n",
    "        g.add((subclass, RDFS.subClassOf, newClass))\n",
    "        g.add((subclass, RDFS.label, Literal(value, lang='en')))"
   ],
   "metadata": {
    "collapsed": false
   },
   "id": "1e13e268531bb6cd"
  },
  {
   "cell_type": "code",
   "execution_count": null,
   "outputs": [],
   "source": [
    "#Save graph as ttl file for use in protégé\n",
    "g.serialize('worldBankKG.ttl',format='turtle',prefixes = prefixes, encoding='urf-8')"
   ],
   "metadata": {
    "collapsed": false
   },
   "id": "568525e8b0ad1eb9"
  }
 ],
 "metadata": {
  "kernelspec": {
   "display_name": "Python 3",
   "language": "python",
   "name": "python3"
  },
  "language_info": {
   "codemirror_mode": {
    "name": "ipython",
    "version": 2
   },
   "file_extension": ".py",
   "mimetype": "text/x-python",
   "name": "python",
   "nbconvert_exporter": "python",
   "pygments_lexer": "ipython2",
   "version": "2.7.6"
  }
 },
 "nbformat": 4,
 "nbformat_minor": 5
}
